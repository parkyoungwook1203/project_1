{
 "cells": [
  {
   "cell_type": "markdown",
   "id": "7a227363",
   "metadata": {},
   "source": [
    "# preparing dataset"
   ]
  },
  {
   "cell_type": "code",
   "execution_count": null,
   "id": "8c52bc1a",
   "metadata": {},
   "outputs": [],
   "source": [
    "import pandas as pd\n",
    "\n",
    "df = pd.read_csv('./s_data.csv')\n",
    "df"
   ]
  },
  {
   "cell_type": "code",
   "execution_count": null,
   "id": "df4eda41",
   "metadata": {},
   "outputs": [],
   "source": [
    "df.drop(columns=['dialect_list','standard_list'],inplace=True)"
   ]
  },
  {
   "cell_type": "code",
   "execution_count": null,
   "id": "f42db652",
   "metadata": {},
   "outputs": [],
   "source": [
    "num = int(input('하고 싶은 만큼'))\n",
    "df=df.sample(n=num,random_state=13)"
   ]
  },
  {
   "cell_type": "markdown",
   "id": "e7c18330",
   "metadata": {},
   "source": [
    "# use model"
   ]
  },
  {
   "cell_type": "code",
   "execution_count": null,
   "id": "06faf114",
   "metadata": {},
   "outputs": [],
   "source": [
    "from transformers import AutoModelForCausalLM, AutoTokenizer, BitsAndBytesConfig\n",
    "from peft import PeftModel\n",
    "import torch\n",
    "\n",
    "base_model = 'beomi/Llama-3-Open-ko-8B-Instruct-preview'\n",
    "adapter_path = './model/model1_0724_ver1/checkpoint-2700'  # 원하는 체크 포인트 경로\n",
    "\n",
    "\n",
    "if torch.cuda.is_available() and torch.cuda.get_device_capability()[0] >= 8:\n",
    "    torch_dtype = torch.bfloat16\n",
    "else:\n",
    "    torch_dtype = torch.float16\n",
    "\n",
    "quant_config = BitsAndBytesConfig(\n",
    "    load_in_4bit=True,\n",
    "    bnb_4bit_quant_type=\"nf4\",\n",
    "    bnb_4bit_compute_dtype=torch_dtype,\n",
    "    bnb_4bit_use_double_quant=False\n",
    ")\n",
    "base = AutoModelForCausalLM.from_pretrained(\n",
    "    base_model,\n",
    "    quantization_config=quant_config,\n",
    "    \n",
    "    attn_implementation=\"eager\",\n",
    "    trust_remote_code=True\n",
    ")\n",
    "\n",
    "model = PeftModel.from_pretrained(base, adapter_path)\n",
    "model.eval()\n",
    "\n",
    "\n",
    "tokenizer = AutoTokenizer.from_pretrained(base_model, trust_remote_code=True)\n",
    "tokenizer.pad_token = tokenizer.eos_token\n"
   ]
  },
  {
   "cell_type": "code",
   "execution_count": null,
   "id": "f105226f",
   "metadata": {},
   "outputs": [],
   "source": [
    "def translate_to_jejueo(sentence):\n",
    "    prompt = f\"다음 문장을 제주 방언으로 번역해줘.\\n{sentence}\\n=> \"\n",
    "    inputs = tokenizer(prompt, return_tensors=\"pt\").to(model.device)\n",
    "\n",
    "    with torch.no_grad():\n",
    "        outputs = model.generate(\n",
    "            **inputs,\n",
    "            max_new_tokens=50,\n",
    "            temperature=0.7,\n",
    "            top_p=0.85,\n",
    "            do_sample=True,\n",
    "            repetition_penalty=1.3,\n",
    "            pad_token_id=tokenizer.eos_token_id\n",
    "        )\n",
    "\n",
    "    result = tokenizer.decode(outputs[0], skip_special_tokens=True)\n",
    "    \n",
    "    if \"=>\" in result:\n",
    "        result = result.split(\"=>\")[-1].strip()\n",
    "    return result\n",
    "\n",
    "df['제주방언'] = df['standard_form'].apply(translate_to_jejueo)\n",
    "\n",
    "df"
   ]
  },
  {
   "cell_type": "code",
   "execution_count": null,
   "id": "880411b7",
   "metadata": {},
   "outputs": [],
   "source": [
    "df['제주방언'] = df['제주방언'].str.split('<').str[0].tolist()"
   ]
  },
  {
   "cell_type": "markdown",
   "id": "60696646",
   "metadata": {},
   "source": [
    "# BLEU & Bert_score"
   ]
  },
  {
   "cell_type": "code",
   "execution_count": null,
   "id": "61ef3be5",
   "metadata": {},
   "outputs": [],
   "source": [
    "import pandas as pd\n",
    "from nltk.translate.bleu_score import sentence_bleu, SmoothingFunction\n",
    "\n",
    "smoothie = SmoothingFunction().method4\n",
    "bleu_scores = []\n",
    "exact_matches = []\n",
    "\n",
    "for _, row in df.iterrows():\n",
    "    reference = [row['dialect_form'].split()]\n",
    "    candidate = row['제주방언'].split()\n",
    "    bleu = sentence_bleu(reference, candidate, smoothing_function=smoothie)\n",
    "    bleu_scores.append(bleu)\n",
    "    exact_matches.append(row['dialect_form'] == row['제주방언'])\n",
    "\n",
    "df['BLEU'] = bleu_scores\n",
    "df['정확히_일치'] = exact_matches\n",
    "\n",
    "print(f\"평균 BLEU: {sum(bleu_scores)/len(bleu_scores):.4f}\")\n",
    "print(f\"정답률 (정확히 일치): {sum(exact_matches)/len(exact_matches):.2%}\")"
   ]
  },
  {
   "cell_type": "code",
   "execution_count": null,
   "id": "0985692f",
   "metadata": {},
   "outputs": [],
   "source": [
    "from bert_score import score\n",
    "\n",
    "candidates = df['제주방언'].tolist()\n",
    "references = df['dialect_form'].tolist()\n",
    "\n",
    "P, R, F1 = score(\n",
    "    candidates,\n",
    "    references,\n",
    "    lang='ko',  \n",
    "    model_type='xlm-roberta-base'  \n",
    ")\n",
    "\n",
    "df['BERTScore_F1'] = F1.tolist()\n",
    "print(f\"평균 BERTScore F1: {F1.mean().item():.4f}\")"
   ]
  },
  {
   "cell_type": "code",
   "execution_count": null,
   "id": "aa39e8ce",
   "metadata": {},
   "outputs": [],
   "source": [
    "# df.to_excel('score_1000.xlsx',index=False)"
   ]
  }
 ],
 "metadata": {
  "kernelspec": {
   "display_name": "stt",
   "language": "python",
   "name": "python3"
  },
  "language_info": {
   "name": "python",
   "version": "3.10.0"
  }
 },
 "nbformat": 4,
 "nbformat_minor": 5
}
